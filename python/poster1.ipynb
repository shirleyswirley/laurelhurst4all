{
 "cells": [
  {
   "cell_type": "code",
   "execution_count": 1,
   "id": "eee6c975-c870-48ad-8a22-791e36b0c740",
   "metadata": {},
   "outputs": [],
   "source": [
    "import geopandas as gpd\n",
    "import matplotlib.pyplot as plt\n",
    "import numpy as np\n",
    "import os\n",
    "import pandas as pd"
   ]
  },
  {
   "cell_type": "markdown",
   "id": "6ef0fe75-5d85-4d2c-beed-b24d5a6f9370",
   "metadata": {},
   "source": [
    "## Join ACS info to cbg shapefile by fips"
   ]
  },
  {
   "cell_type": "code",
   "execution_count": 6,
   "id": "f09d8096-9525-401d-bfb4-ca97db1b2679",
   "metadata": {},
   "outputs": [],
   "source": [
    "# - Load census block groups\n",
    "cbgs = gpd.read_file('/opt/laurelhurst4all/data/shapefiles/Census_Tracts_2010/Census_Tracts_2010.shp')\n",
    "cbgs = cbgs[['GEOID10','geometry']]\n",
    "cbgs.rename(columns={'GEOID10':'fips'}, inplace=True)\n",
    "cbgs['fips'] = pd.to_numeric(cbgs['fips'])\n",
    "cbgs['geometry'] = cbgs['geometry'].to_crs(epsg=4326)"
   ]
  },
  {
   "cell_type": "code",
   "execution_count": 7,
   "id": "be1f41a2-7cf3-4daa-abe7-d38cc2a7a32a",
   "metadata": {},
   "outputs": [
    {
     "data": {
      "text/html": [
       "<div>\n",
       "<style scoped>\n",
       "    .dataframe tbody tr th:only-of-type {\n",
       "        vertical-align: middle;\n",
       "    }\n",
       "\n",
       "    .dataframe tbody tr th {\n",
       "        vertical-align: top;\n",
       "    }\n",
       "\n",
       "    .dataframe thead th {\n",
       "        text-align: right;\n",
       "    }\n",
       "</style>\n",
       "<table border=\"1\" class=\"dataframe\">\n",
       "  <thead>\n",
       "    <tr style=\"text-align: right;\">\n",
       "      <th></th>\n",
       "      <th>fips</th>\n",
       "      <th>geometry</th>\n",
       "    </tr>\n",
       "  </thead>\n",
       "  <tbody>\n",
       "    <tr>\n",
       "      <th>0</th>\n",
       "      <td>53033002500</td>\n",
       "      <td>POLYGON ((-122.29602 47.69023, -122.29604 47.6...</td>\n",
       "    </tr>\n",
       "    <tr>\n",
       "      <th>1</th>\n",
       "      <td>53033002600</td>\n",
       "      <td>POLYGON ((-122.30817 47.69031, -122.30793 47.6...</td>\n",
       "    </tr>\n",
       "    <tr>\n",
       "      <th>2</th>\n",
       "      <td>53033005600</td>\n",
       "      <td>POLYGON ((-122.39300 47.63956, -122.39300 47.6...</td>\n",
       "    </tr>\n",
       "    <tr>\n",
       "      <th>3</th>\n",
       "      <td>53033006800</td>\n",
       "      <td>POLYGON ((-122.35070 47.63994, -122.35071 47.6...</td>\n",
       "    </tr>\n",
       "    <tr>\n",
       "      <th>4</th>\n",
       "      <td>53033006000</td>\n",
       "      <td>POLYGON ((-122.34279 47.64320, -122.34267 47.6...</td>\n",
       "    </tr>\n",
       "  </tbody>\n",
       "</table>\n",
       "</div>"
      ],
      "text/plain": [
       "          fips                                           geometry\n",
       "0  53033002500  POLYGON ((-122.29602 47.69023, -122.29604 47.6...\n",
       "1  53033002600  POLYGON ((-122.30817 47.69031, -122.30793 47.6...\n",
       "2  53033005600  POLYGON ((-122.39300 47.63956, -122.39300 47.6...\n",
       "3  53033006800  POLYGON ((-122.35070 47.63994, -122.35071 47.6...\n",
       "4  53033006000  POLYGON ((-122.34279 47.64320, -122.34267 47.6..."
      ]
     },
     "execution_count": 7,
     "metadata": {},
     "output_type": "execute_result"
    }
   ],
   "source": [
    "cbgs.head()"
   ]
  },
  {
   "cell_type": "code",
   "execution_count": null,
   "id": "196ff1ef-6143-4047-ba22-dd4a41d592cb",
   "metadata": {},
   "outputs": [],
   "source": [
    "# - Load ACS 2016 info\n",
    "acs = pd.read_csv('/opt/dssg-hot/data/acs/block_group_census_estimates_wide_original_bins_all_WA.csv',\n",
    "                  usecols=['fips_code', 'households', 'mean_inc', 'med_age', 'med_inc', 'pc_income',\n",
    "                              'population', 'race_nonhisp_asian', 'race_nonhisp_white', 'trans_carpool',\n",
    "                              'trans_drivealone', 'trans_transit'])\n",
    "acs.rename(columns={'fips_code':'fips'}, inplace=True)\n",
    "cols = acs.columns.drop(['fips','population'])\n",
    "#acs.dtypes\n",
    "#acs.head()"
   ]
  },
  {
   "cell_type": "code",
   "execution_count": null,
   "id": "9b07d315-60af-433c-9701-d14bd89c5f75",
   "metadata": {},
   "outputs": [],
   "source": [
    "cbgs_acs = cbgs.merge(acs, on='fips')"
   ]
  },
  {
   "cell_type": "markdown",
   "id": "0d3c493d-1c86-48d7-81bd-420371d4158a",
   "metadata": {},
   "source": [
    "## Load in shapefiles for drawing maps"
   ]
  },
  {
   "cell_type": "markdown",
   "id": "56578be1-0a69-4f46-9d61-1b66374e1f62",
   "metadata": {},
   "source": [
    "### Load in roads shapefile"
   ]
  },
  {
   "cell_type": "code",
   "execution_count": 12,
   "id": "f7df73f0-6020-4506-897d-a832d37da3b1",
   "metadata": {},
   "outputs": [],
   "source": [
    "rds500k = gpd.read_file('/opt/laurelhurst4all/data/shapefiles/roads500k/sr500k_20201231.shp')\n",
    "#print(rds500k.crs)\n",
    "rds500k['geometry'] = rds500k['geometry'].to_crs(epsg=4326)\n",
    "#print(rds500k.head())\n",
    "\n",
    "majrds = rds500k[(rds500k['StateRoute']=='405')|(rds500k['StateRoute']=='005')\n",
    "                |(rds500k['StateRoute']=='522')|(rds500k['StateRoute']=='520')\n",
    "                |(rds500k['StateRoute']=='527')|(rds500k['StateRoute']=='90')]\n",
    "#majrds.plot()"
   ]
  },
  {
   "cell_type": "markdown",
   "id": "286b8115-f049-48e7-a8b1-094e01722e8c",
   "metadata": {},
   "source": [
    "### Load in water shapefiles"
   ]
  },
  {
   "cell_type": "code",
   "execution_count": 16,
   "id": "0607e6f7-c6f8-4fcb-a469-e8bb1a1fa948",
   "metadata": {},
   "outputs": [],
   "source": [
    "water = gpd.read_file('/opt/laurelhurst4all/data/shapefiles/water/Open_water_for_King_County_and_portions_of_adjacent_counties___wtrbdy_area.shp')\n",
    "#print(water.crs)\n",
    "#print(water.head())\n",
    "\n",
    "majwater = water[(water['NAME']=='Green Lake')|(water['NAME']=='Lake Union')\n",
    "                |(water['NAME']=='Lake Meridian')|(water['NAME']=='Salmon Bay')\n",
    "                |(water['NAME']=='Lake Washington')|(water['NAME']=='Lake Sammamish')\n",
    "                |(water['NAME']=='Lake Youngs')|(water['NAME']=='Lake Stevens')\n",
    "                |(water['NAME']=='Puget Sound')]\n",
    "#majwater.plot()"
   ]
  },
  {
   "cell_type": "markdown",
   "id": "2bd9596d-a498-49a8-af87-bd3782455693",
   "metadata": {},
   "source": [
    "### Load in redlining map"
   ]
  },
  {
   "cell_type": "code",
   "execution_count": 17,
   "id": "814c3de6-41e8-49a7-94a2-5a1b3686fe04",
   "metadata": {},
   "outputs": [],
   "source": [
    "rl = gpd.read_file('/opt/laurelhurst4all/data/shapefiles/WASeattle1936/cartodb-query.shp')"
   ]
  },
  {
   "cell_type": "code",
   "execution_count": 18,
   "id": "5099ed83-d633-4a33-83d1-b0dc1034e0f5",
   "metadata": {},
   "outputs": [
    {
     "name": "stdout",
     "output_type": "stream",
     "text": [
      "epsg:4326\n",
      "   name holc_id holc_grade                                           geometry\n",
      "0  None      A1          A  POLYGON ((-122.39875 47.69063, -122.39851 47.6...\n",
      "1  None     A10          A  POLYGON ((-122.39747 47.58351, -122.39673 47.5...\n",
      "2  None     A11          A  POLYGON ((-122.37809 47.58435, -122.37809 47.5...\n",
      "3  None     A12          A  POLYGON ((-122.39761 47.55554, -122.39637 47.5...\n",
      "4  None      A2          A  POLYGON ((-122.25787 47.67193, -122.25612 47.6...\n"
     ]
    }
   ],
   "source": [
    "print(rl.crs)\n",
    "print(rl.head())"
   ]
  },
  {
   "cell_type": "code",
   "execution_count": null,
   "id": "e12342b4-4685-4079-8c49-46c5cc039d23",
   "metadata": {},
   "outputs": [],
   "source": [
    "rl.plot()"
   ]
  },
  {
   "cell_type": "markdown",
   "id": "6915c72d-9d47-4b3e-970c-74611dccd4f7",
   "metadata": {},
   "source": [
    "### Load in zoning map"
   ]
  },
  {
   "cell_type": "code",
   "execution_count": null,
   "id": "e66c3b35-9a38-4f34-876c-3348a695f019",
   "metadata": {},
   "outputs": [],
   "source": [
    "zoning = gpd.read_file('/opt/laurelhurst4all/data/shapefiles/zoning/Land_Use_Zoning_Detail_with_Capacity_Assumptions.shp')\n",
    "print(zoning.crs)\n",
    "print(zoning.head())\n",
    "zoning.plot()"
   ]
  }
 ],
 "metadata": {
  "kernelspec": {
   "display_name": "Python 3",
   "language": "python",
   "name": "python3"
  },
  "language_info": {
   "codemirror_mode": {
    "name": "ipython",
    "version": 3
   },
   "file_extension": ".py",
   "mimetype": "text/x-python",
   "name": "python",
   "nbconvert_exporter": "python",
   "pygments_lexer": "ipython3",
   "version": "3.8.2"
  }
 },
 "nbformat": 4,
 "nbformat_minor": 5
}
